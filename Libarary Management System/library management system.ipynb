{
 "cells": [
  {
   "cell_type": "code",
   "execution_count": 2,
   "id": "0799943f-77d0-4382-8c17-ecd05de0551c",
   "metadata": {},
   "outputs": [
    {
     "name": "stdout",
     "output_type": "stream",
     "text": [
      " \n",
      "Welcome to your Personal Library Manager!  \n",
      "1. Add a book  \n",
      "2. Remove a book  \n",
      "3. Search for a book  \n",
      "4. Display all books  \n",
      "5. Display statistics  \n",
      "6. Exit \n",
      "\n"
     ]
    },
    {
     "name": "stdin",
     "output_type": "stream",
     "text": [
      "Enter your choice:  1\n",
      "Enter book title:  it ends with us \n",
      "Enter book author: collen hoover \n",
      "Enter publication year:  2021\n",
      "Enter the genre of the book:  romance \n",
      "Have you read the book (yes/no):  yes\n"
     ]
    },
    {
     "name": "stdout",
     "output_type": "stream",
     "text": [
      "✅ Book added successfully!\n",
      " \n",
      "Welcome to your Personal Library Manager!  \n",
      "1. Add a book  \n",
      "2. Remove a book  \n",
      "3. Search for a book  \n",
      "4. Display all books  \n",
      "5. Display statistics  \n",
      "6. Exit \n",
      "\n"
     ]
    },
    {
     "name": "stdin",
     "output_type": "stream",
     "text": [
      "Enter your choice:  2\n",
      "Enter the title of the book to remove:  wq\n"
     ]
    },
    {
     "name": "stdout",
     "output_type": "stream",
     "text": [
      "❌ No book found with that title.\n",
      " \n",
      "Welcome to your Personal Library Manager!  \n",
      "1. Add a book  \n",
      "2. Remove a book  \n",
      "3. Search for a book  \n",
      "4. Display all books  \n",
      "5. Display statistics  \n",
      "6. Exit \n",
      "\n"
     ]
    },
    {
     "name": "stdin",
     "output_type": "stream",
     "text": [
      "Enter your choice:  3\n"
     ]
    },
    {
     "name": "stdout",
     "output_type": "stream",
     "text": [
      "\n",
      "        Search by:\n",
      "        1. Title\n",
      "        2. Author\n",
      "        \n"
     ]
    },
    {
     "name": "stdin",
     "output_type": "stream",
     "text": [
      "Enter your choice:  1\n",
      "Enter book title:  it ends with us \n"
     ]
    },
    {
     "name": "stdout",
     "output_type": "stream",
     "text": [
      "✅ Found: 'it ends with us ' by collen hoover \n",
      " \n",
      "Welcome to your Personal Library Manager!  \n",
      "1. Add a book  \n",
      "2. Remove a book  \n",
      "3. Search for a book  \n",
      "4. Display all books  \n",
      "5. Display statistics  \n",
      "6. Exit \n",
      "\n"
     ]
    },
    {
     "name": "stdin",
     "output_type": "stream",
     "text": [
      "Enter your choice:  3\n"
     ]
    },
    {
     "name": "stdout",
     "output_type": "stream",
     "text": [
      "\n",
      "        Search by:\n",
      "        1. Title\n",
      "        2. Author\n",
      "        \n"
     ]
    },
    {
     "name": "stdin",
     "output_type": "stream",
     "text": [
      "Enter your choice:  2\n",
      "Enter author name:  collen hoover \n"
     ]
    },
    {
     "name": "stdout",
     "output_type": "stream",
     "text": [
      "✅ Found: 'it ends with us ' by collen hoover \n",
      " \n",
      "Welcome to your Personal Library Manager!  \n",
      "1. Add a book  \n",
      "2. Remove a book  \n",
      "3. Search for a book  \n",
      "4. Display all books  \n",
      "5. Display statistics  \n",
      "6. Exit \n",
      "\n"
     ]
    },
    {
     "name": "stdin",
     "output_type": "stream",
     "text": [
      "Enter your choice:  1\n",
      "Enter book title:  it starts with us \n",
      "Enter book author: collen hoover \n",
      "Enter publication year:  2023\n",
      "Enter the genre of the book:  romance \n",
      "Have you read the book (yes/no):  no \n"
     ]
    },
    {
     "name": "stdout",
     "output_type": "stream",
     "text": [
      "✅ Book added successfully!\n",
      " \n",
      "Welcome to your Personal Library Manager!  \n",
      "1. Add a book  \n",
      "2. Remove a book  \n",
      "3. Search for a book  \n",
      "4. Display all books  \n",
      "5. Display statistics  \n",
      "6. Exit \n",
      "\n"
     ]
    },
    {
     "name": "stdin",
     "output_type": "stream",
     "text": [
      "Enter your choice:  3\n"
     ]
    },
    {
     "name": "stdout",
     "output_type": "stream",
     "text": [
      "\n",
      "        Search by:\n",
      "        1. Title\n",
      "        2. Author\n",
      "        \n"
     ]
    },
    {
     "name": "stdin",
     "output_type": "stream",
     "text": [
      "Enter your choice:  1\n",
      "Enter book title:  it starts wit us \n"
     ]
    },
    {
     "name": "stdout",
     "output_type": "stream",
     "text": [
      "❌ No books found by that author.\n",
      " \n",
      "Welcome to your Personal Library Manager!  \n",
      "1. Add a book  \n",
      "2. Remove a book  \n",
      "3. Search for a book  \n",
      "4. Display all books  \n",
      "5. Display statistics  \n",
      "6. Exit \n",
      "\n"
     ]
    },
    {
     "name": "stdin",
     "output_type": "stream",
     "text": [
      "Enter your choice:  3\n"
     ]
    },
    {
     "name": "stdout",
     "output_type": "stream",
     "text": [
      "\n",
      "        Search by:\n",
      "        1. Title\n",
      "        2. Author\n",
      "        \n"
     ]
    },
    {
     "name": "stdin",
     "output_type": "stream",
     "text": [
      "Enter your choice:  \n"
     ]
    },
    {
     "name": "stdout",
     "output_type": "stream",
     "text": [
      "Please enter a valid number.\n",
      " \n",
      "Welcome to your Personal Library Manager!  \n",
      "1. Add a book  \n",
      "2. Remove a book  \n",
      "3. Search for a book  \n",
      "4. Display all books  \n",
      "5. Display statistics  \n",
      "6. Exit \n",
      "\n"
     ]
    },
    {
     "name": "stdin",
     "output_type": "stream",
     "text": [
      "Enter your choice:  3\n"
     ]
    },
    {
     "name": "stdout",
     "output_type": "stream",
     "text": [
      "\n",
      "        Search by:\n",
      "        1. Title\n",
      "        2. Author\n",
      "        \n"
     ]
    },
    {
     "name": "stdin",
     "output_type": "stream",
     "text": [
      "Enter your choice:  2\n",
      "Enter author name:  collen hoover \n"
     ]
    },
    {
     "name": "stdout",
     "output_type": "stream",
     "text": [
      "✅ Found: 'it ends with us ' by collen hoover \n",
      "✅ Found: 'it starts with us ' by collen hoover \n",
      " \n",
      "Welcome to your Personal Library Manager!  \n",
      "1. Add a book  \n",
      "2. Remove a book  \n",
      "3. Search for a book  \n",
      "4. Display all books  \n",
      "5. Display statistics  \n",
      "6. Exit \n",
      "\n"
     ]
    },
    {
     "name": "stdin",
     "output_type": "stream",
     "text": [
      "Enter your choice:  4\n"
     ]
    },
    {
     "name": "stdout",
     "output_type": "stream",
     "text": [
      "1. it ends with us  by collen hoover  (2021) - romance  - Read: yes\n",
      "2. it starts with us  by collen hoover  (2023) - romance  - Read: no \n",
      " \n",
      "Welcome to your Personal Library Manager!  \n",
      "1. Add a book  \n",
      "2. Remove a book  \n",
      "3. Search for a book  \n",
      "4. Display all books  \n",
      "5. Display statistics  \n",
      "6. Exit \n",
      "\n"
     ]
    },
    {
     "name": "stdin",
     "output_type": "stream",
     "text": [
      "Enter your choice:  5\n"
     ]
    },
    {
     "name": "stdout",
     "output_type": "stream",
     "text": [
      "Total books: 2\n",
      "Percentage Read: 0.5\n",
      " \n",
      "Welcome to your Personal Library Manager!  \n",
      "1. Add a book  \n",
      "2. Remove a book  \n",
      "3. Search for a book  \n",
      "4. Display all books  \n",
      "5. Display statistics  \n",
      "6. Exit \n",
      "\n"
     ]
    },
    {
     "name": "stdin",
     "output_type": "stream",
     "text": [
      "Enter your choice:  2\n",
      "Enter the title of the book to remove:  it ends with \n"
     ]
    },
    {
     "name": "stdout",
     "output_type": "stream",
     "text": [
      "❌ No book found with that title.\n",
      " \n",
      "Welcome to your Personal Library Manager!  \n",
      "1. Add a book  \n",
      "2. Remove a book  \n",
      "3. Search for a book  \n",
      "4. Display all books  \n",
      "5. Display statistics  \n",
      "6. Exit \n",
      "\n"
     ]
    },
    {
     "name": "stdin",
     "output_type": "stream",
     "text": [
      "Enter your choice:  2\n",
      "Enter the title of the book to remove:  it ends with us \n"
     ]
    },
    {
     "name": "stdout",
     "output_type": "stream",
     "text": [
      "✅ Book removed successfully!\n",
      " \n",
      "Welcome to your Personal Library Manager!  \n",
      "1. Add a book  \n",
      "2. Remove a book  \n",
      "3. Search for a book  \n",
      "4. Display all books  \n",
      "5. Display statistics  \n",
      "6. Exit \n",
      "\n"
     ]
    },
    {
     "name": "stdin",
     "output_type": "stream",
     "text": [
      "Enter your choice:  4\n"
     ]
    },
    {
     "name": "stdout",
     "output_type": "stream",
     "text": [
      "1. it starts with us  by collen hoover  (2023) - romance  - Read: no \n",
      " \n",
      "Welcome to your Personal Library Manager!  \n",
      "1. Add a book  \n",
      "2. Remove a book  \n",
      "3. Search for a book  \n",
      "4. Display all books  \n",
      "5. Display statistics  \n",
      "6. Exit \n",
      "\n"
     ]
    },
    {
     "name": "stdin",
     "output_type": "stream",
     "text": [
      "Enter your choice:  5\n"
     ]
    },
    {
     "name": "stdout",
     "output_type": "stream",
     "text": [
      "Total books: 1\n",
      "Percentage Read: 0.0\n",
      " \n",
      "Welcome to your Personal Library Manager!  \n",
      "1. Add a book  \n",
      "2. Remove a book  \n",
      "3. Search for a book  \n",
      "4. Display all books  \n",
      "5. Display statistics  \n",
      "6. Exit \n",
      "\n"
     ]
    },
    {
     "name": "stdin",
     "output_type": "stream",
     "text": [
      "Enter your choice:  6\n"
     ]
    },
    {
     "name": "stdout",
     "output_type": "stream",
     "text": [
      "Exiting the Library Management System. Goodbye!\n"
     ]
    }
   ],
   "source": [
    "# Initialize an empty list to store books\n",
    "library = []\n",
    "\n",
    "# Infinite loop for menu-driven interface\n",
    "while True:\n",
    "    # Display the main menu\n",
    "    print(\"\"\" \n",
    "Welcome to your Personal Library Manager!  \n",
    "1. Add a book  \n",
    "2. Remove a book  \n",
    "3. Search for a book  \n",
    "4. Display all books  \n",
    "5. Display statistics  \n",
    "6. Exit \n",
    "\"\"\")\n",
    "\n",
    "    # Try to get user choice and handle non-integer inputs\n",
    "    try:\n",
    "        x = int(input(\"Enter your choice: \"))\n",
    "    except ValueError:\n",
    "        print(\"Please enter a valid number.\")\n",
    "        continue\n",
    "\n",
    "    # Option 1: Add a book to the library\n",
    "    if x == 1:\n",
    "        title = input(\"Enter book title: \").lower()\n",
    "        author = input(\"Enter book author:\").lower()\n",
    "        year = int(input(\"Enter publication year: \"))\n",
    "        genre = input(\"Enter the genre of the book: \").lower()\n",
    "        read = input(\"Have you read the book (yes/no): \").lower()\n",
    "\n",
    "        # Create a dictionary to represent the book\n",
    "        book = {\n",
    "            \"title\": title,\n",
    "            \"author\": author,\n",
    "            \"year\": year,\n",
    "            \"genre\": genre,\n",
    "            \"read\": read\n",
    "        }\n",
    "\n",
    "        # Add the book to the library list\n",
    "        library.append(book)\n",
    "        print(\"✅ Book added successfully!\")\n",
    "\n",
    "    # Option 2: Remove a book from the library\n",
    "    elif x == 2:\n",
    "        title = input(\"Enter the title of the book to remove: \").lower()\n",
    "        found = False\n",
    "\n",
    "        # Search for the book by title\n",
    "        for book in library:\n",
    "            if book[\"title\"] == title:\n",
    "                library.remove(book)\n",
    "                print(\"✅ Book removed successfully!\")\n",
    "                found = True\n",
    "                break\n",
    "        if not found:\n",
    "            print(\"❌ No book found with that title.\")\n",
    "\n",
    "\n",
    "    # Option 3: Search for a book\n",
    "    elif x == 3:\n",
    "        print(\"\"\"\n",
    "        Search by:\n",
    "        1. Title\n",
    "        2. Author\n",
    "        \"\"\")\n",
    "        try:\n",
    "            option = int(input(\"Enter your choice: \"))\n",
    "        except ValueError:\n",
    "            print(\"Please enter a valid number.\")\n",
    "            continue\n",
    "\n",
    "        # Search by title\n",
    "        if option == 1:\n",
    "            title = input(\"Enter book title: \").lower()\n",
    "            found = False\n",
    "            for book in library:\n",
    "                if book[\"title\"] == title:\n",
    "                    print(f\"✅ Found: '{book['title']}' by {book['author']}\")\n",
    "                    found = True\n",
    "            if not found:\n",
    "                print(\"❌ No books found by that author.\")\n",
    "\n",
    "        # Search by author\n",
    "        elif option == 2:\n",
    "            author = input(\"Enter author name: \").lower()\n",
    "            found = False\n",
    "            for book in library:\n",
    "                if book[\"author\"] == author:\n",
    "                    print(f\"✅ Found: '{book['title']}' by {book['author']}\")\n",
    "                    found = True\n",
    "            if not found:\n",
    "                print(\"❌ No book found with that title.\")\n",
    "\n",
    "    # Option 4: Display all books in the library\n",
    "    elif x == 4:\n",
    "        if len(library) == 0:\n",
    "            print(\"Library is empty!\")\n",
    "        else:\n",
    "            n = 1\n",
    "            for book in library:\n",
    "                print(f\"{n}. {book['title']} by {book['author']} ({book['year']}) - {book['genre']} - Read: {book['read']}\")\n",
    "                n += 1\n",
    "\n",
    "    # Option 5: Display library statistics\n",
    "    elif x == 5:\n",
    "        n = 0  # Total number of books\n",
    "        r = 0  # Number of books read\n",
    "        for book in library:\n",
    "            n += 1\n",
    "            if book['read'] == \"yes\":\n",
    "                r += 1\n",
    "        print(f\"Total books: {n}\")\n",
    "        try:\n",
    "            percent = (r / n) * 100\n",
    "        except ZeroDivisionError as e:\n",
    "            print(f\"Error - {e}\")\n",
    "        else:\n",
    "            print(f\"Percentage Read: {r / n}\")\n",
    "\n",
    "    # Option 6: Exit the program\n",
    "    if x == 6:\n",
    "        print(\"Exiting the Library Management System. Goodbye!\")\n",
    "        break\n"
   ]
  },
  {
   "cell_type": "code",
   "execution_count": null,
   "id": "624f11f5-90ae-49c3-a27e-21f9c9e9316f",
   "metadata": {},
   "outputs": [],
   "source": []
  }
 ],
 "metadata": {
  "kernelspec": {
   "display_name": "Python 3 (ipykernel)",
   "language": "python",
   "name": "python3"
  },
  "language_info": {
   "codemirror_mode": {
    "name": "ipython",
    "version": 3
   },
   "file_extension": ".py",
   "mimetype": "text/x-python",
   "name": "python",
   "nbconvert_exporter": "python",
   "pygments_lexer": "ipython3",
   "version": "3.12.4"
  }
 },
 "nbformat": 4,
 "nbformat_minor": 5
}
